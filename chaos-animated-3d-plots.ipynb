{
 "cells": [
  {
   "cell_type": "markdown",
   "metadata": {},
   "source": [
    "Author: Geoff Boeing <br />\n",
    "Web: http://geoffboeing.com/2015/03/chaos-theory-logistic-map/  <br />\n",
    "Date: 2015-03-30 <br />\n",
    "Description: This notebook demonstrates how to create Return Maps, or Poincaré Plots, to visualize system attractors and differentiate random noise from chaos. Return Maps embed 1-dimensional data (like time series) from a discrete dynamical system into 2- or 3-dimensional state space by plotting the value at time t vs the value at time t+1 (vs the value at time t+2, if it's a 3-D plot). I demonstrate how to make animated GIFs to pan and zoom around these 3-D plots."
   ]
  },
  {
   "cell_type": "code",
   "execution_count": 1,
   "metadata": {
    "collapsed": true
   },
   "outputs": [],
   "source": [
    "%matplotlib inline\n",
    "import pandas as pd, numpy as np, matplotlib.pyplot as plt\n",
    "import random\n",
    "from mpl_toolkits.mplot3d import Axes3D\n",
    "from PIL import Image as PIL_Image\n",
    "from images2gif import writeGif\n",
    "import glob\n",
    "import IPython.display as IPdisplay"
   ]
  },
  {
   "cell_type": "code",
   "execution_count": 2,
   "metadata": {
    "collapsed": true
   },
   "outputs": [],
   "source": [
    "# for documentation of this function, see chaos-logistic-model.ipynb\n",
    "def logistic_model(generations=20, growth_rate_min=0.5, growth_rate_max=4.0, growth_rate_steps=7, pop_initial=0.5):\n",
    "    growth_rate_min = float(growth_rate_min)\n",
    "    growth_rate_max = float(growth_rate_max) - 0.0000000001\n",
    "    growth_rates = np.arange(growth_rate_min, growth_rate_max, (growth_rate_max - growth_rate_min) / growth_rate_steps)\n",
    "    pops = pd.DataFrame(columns=growth_rates, index=range(generations))\n",
    "    pops.iloc[0] = pop_initial\n",
    "    for rate in pops.columns:\n",
    "        pop = pops[rate]\n",
    "        for t in range(generations - 1):\n",
    "            pop[t + 1] = pop[t] * rate * (1 - pop[t])\n",
    "    return pops"
   ]
  },
  {
   "cell_type": "code",
   "execution_count": 3,
   "metadata": {
    "collapsed": true
   },
   "outputs": [],
   "source": [
    "# for documentation of this function, see chaos-logistic-poincare-plots.ipynb\n",
    "def get_poincare_points_3d(pops, discard_gens):\n",
    "    if discard_gens > 0:\n",
    "        discard_gens = np.arange(0, discard_gens)\n",
    "        pops = pops.drop(labels=pops.index[discard_gens])\n",
    "    li = []\n",
    "    for rate in pops.columns:\n",
    "        for label, row in pops.iterrows():\n",
    "            if label < len(pops)-2:\n",
    "                li.append((row[rate], pops[rate][label + 1], pops[rate][label + 2]))\n",
    "    return pd.DataFrame(li, columns=['x', 'y', 'z'])"
   ]
  },
  {
   "cell_type": "code",
   "execution_count": 4,
   "metadata": {
    "collapsed": false
   },
   "outputs": [
    {
     "data": {
      "text/html": [
       "<img src=\"images/demo-pan-rotate-zoom.gif\"/>"
      ],
      "text/plain": [
       "<IPython.core.display.Image object>"
      ]
     },
     "execution_count": 4,
     "metadata": {},
     "output_type": "execute_result"
    }
   ],
   "source": [
    "############################################################################\n",
    "# show a 3-D poincare plot as an animated gif\n",
    "############################################################################\n",
    "gif_filename = 'demo-pan-rotate-zoom'\n",
    "\n",
    "# run the logistic model for 1000 generations for the growth rate parameter 3.99\n",
    "r = 3.99\n",
    "xyz = get_poincare_points_3d(logistic_model(1000, r, 4, 1), 1)\n",
    "\n",
    "# create the figure and axis\n",
    "fig = plt.figure(figsize=(10, 8))\n",
    "ax = fig.add_subplot(111, projection='3d')\n",
    "\n",
    "# scatterplot the data in 3-D\n",
    "ax.scatter(xyz['x'], xyz['y'], xyz['z'], s=3, marker='o', facecolors='m', edgecolors='m', alpha=0.1, depthshade=True)\n",
    "\n",
    "# remove all ticks\n",
    "ax.tick_params(reset=True, axis='both', which='both', pad=0, width=0, length=0,\n",
    "               bottom='off', top='off', left='off', right='off', \n",
    "               labelbottom='off', labeltop='off', labelleft='off', labelright='off')\n",
    "\n",
    "# create 36 frames for the animated gif\n",
    "steps = 36\n",
    "\n",
    "# a viewing perspective is composed of an elevation, distance, and azimuth\n",
    "# define the range of values for the distance of the viewing perspective\n",
    "min_dist = 7.\n",
    "max_dist = 10.\n",
    "dist_range = np.arange(min_dist, max_dist, (max_dist-min_dist)/steps)\n",
    "\n",
    "# define the range of values for the elevation of the viewing perspective\n",
    "min_elev = 10.\n",
    "max_elev = 60.\n",
    "elev_range = np.arange(max_elev, min_elev, (min_elev-max_elev)/steps)\n",
    "\n",
    "# pan down, rotate around, and zoom out\n",
    "for azimuth in range(0, 360, 360/steps):\n",
    "    ax.azim = float(azimuth)\n",
    "    ax.elev = elev_range[int(azimuth/(360./steps))]\n",
    "    ax.dist = dist_range[int(azimuth/(360./steps))]\n",
    "    fig.suptitle('elev=' + str(round(ax.elev,1)) + ', azim=' + str(round(ax.azim,1)) + ', dist=' + str(round(ax.dist,1)))\n",
    "    plt.savefig('images/' + gif_filename + '/img' + str(azimuth).zfill(3) + '.png')\n",
    "    \n",
    "# don't display the static plot\n",
    "plt.close()\n",
    "\n",
    "# create an animated gif of all the 3-D plot perspectives then display it inline\n",
    "images = [PIL_Image.open(image) for image in glob.glob('images/' + gif_filename + '/*.png')]\n",
    "file_path_name = 'images/' + gif_filename + '.gif'\n",
    "writeGif(file_path_name, images, duration=0.2)\n",
    "IPdisplay.Image(url=file_path_name)"
   ]
  },
  {
   "cell_type": "code",
   "execution_count": 5,
   "metadata": {
    "collapsed": false
   },
   "outputs": [
    {
     "data": {
      "text/html": [
       "<img src=\"images/logistic-3d-return-map.gif\"/>"
      ],
      "text/plain": [
       "<IPython.core.display.Image object>"
      ]
     },
     "execution_count": 5,
     "metadata": {},
     "output_type": "execute_result"
    }
   ],
   "source": [
    "############################################################################\n",
    "# show the 3-D plot as an animated gif\n",
    "############################################################################\n",
    "gif_filename = 'logistic-3d-return-map'\n",
    "\n",
    "# run the logistic model for 1000 generations for the growth rate parameter 3.99\n",
    "r = 3.99\n",
    "xyz = get_poincare_points_3d(logistic_model(1000, r, 4, 1), 1)\n",
    "\n",
    "# create the figure and axis\n",
    "fig = plt.figure(figsize=(10, 8))\n",
    "ax = fig.add_subplot(111, projection='3d')\n",
    "\n",
    "# scatterplot the data in 3-D\n",
    "ax.scatter(xyz['x'], xyz['y'], xyz['z'], s=3, marker='o', facecolors='m', edgecolors='m', alpha=0.1, depthshade=True)\n",
    "\n",
    "# set axis labels, limits, and remove all ticks\n",
    "ax.set_xlabel('t',  labelpad=0)\n",
    "ax.set_ylabel('t + 1',  labelpad=0)\n",
    "ax.set_zlabel('t + 2',  labelpad=0)\n",
    "ax.set_xlim(0, 1)\n",
    "ax.set_ylim(0, 1)\n",
    "ax.set_zlim(0, 1)\n",
    "ax.tick_params(reset=True, axis='both', which='both', pad=0, width=0, length=0,\n",
    "               bottom='off', top='off', left='off', right='off', \n",
    "               labelbottom='off', labeltop='off', labelleft='off', labelright='off')\n",
    "\n",
    "# configure the initial viewing perspective to look straight down at the x-y plane\n",
    "ax.elev = 89.9\n",
    "ax.azim = 270.1\n",
    "ax.dist = 10.0\n",
    "\n",
    "# sweep the perspective down and rotate to reveal the 3-D structure of the strange attractor\n",
    "for n in range(0, 75):\n",
    "    if n > 9 and n < 13:\n",
    "        ax.elev = ax.elev-0.5 #start by panning down slowly\n",
    "    if n > 12 and n < 27:\n",
    "        ax.elev = ax.elev-1.0 #pan down faster\n",
    "    if n > 26 and n < 51:\n",
    "        ax.elev = ax.elev-1.5\n",
    "        ax.azim = ax.azim+1 #pan down faster and start to rotate\n",
    "    if n > 50 and n < 55:\n",
    "        ax.elev = ax.elev-1.0\n",
    "        ax.azim = ax.azim+1 #pan down slower and rotate same speed\n",
    "    if n > 54 and n < 64:\n",
    "        ax.elev = ax.elev-0.5\n",
    "        ax.azim = ax.azim+1 #pan down slowly and rotate same speed\n",
    "    if n > 63 and n < 67:\n",
    "        ax.elev = ax.elev-0.2\n",
    "        ax.azim = ax.azim+0.5 #end by panning/rotating slowly to stopping position\n",
    "        \n",
    "    # lastly, add a figure title to each plot then save the figure to the disk\n",
    "    fig.suptitle(u'Poincaré Plot of 3D state space, r=' + str(r), fontsize=12, x=0.5, y=0.85)\n",
    "    plt.savefig('images/' + gif_filename + '/img' + str(n).zfill(3) + '.png', bbox_inches='tight')\n",
    "\n",
    "# don't display the static plot\n",
    "plt.close()\n",
    "\n",
    "# create an animated gif of all the 3-D plot perspectives then display it inline\n",
    "images = [PIL_Image.open(image) for image in glob.glob('images/' + gif_filename + '/*.png')]\n",
    "file_path_name = 'images/' + gif_filename + '.gif'\n",
    "writeGif(file_path_name, images, duration=0.1)\n",
    "IPdisplay.Image(url=file_path_name)"
   ]
  },
  {
   "cell_type": "code",
   "execution_count": 6,
   "metadata": {
    "collapsed": false
   },
   "outputs": [
    {
     "data": {
      "text/html": [
       "<img src=\"images/chaos-vs-random-return-map.gif\"/>"
      ],
      "text/plain": [
       "<IPython.core.display.Image object>"
      ]
     },
     "execution_count": 6,
     "metadata": {},
     "output_type": "execute_result"
    }
   ],
   "source": [
    "############################################################################\n",
    "# show a 3-D plot of chaos vs random noise as an animated gif\n",
    "############################################################################\n",
    "gif_filename = 'chaos-vs-random-return-map'\n",
    "\n",
    "# run the logistic model for 1000 generations for the growth rate parameter 3.99\n",
    "r = 3.99\n",
    "chaos_points = get_poincare_points_3d(logistic_model(1000, r, 4, 1), 1)\n",
    "\n",
    "# create a random time series data set\n",
    "random_pops = pd.DataFrame([random.random() for _ in range(0, 1000)], columns=['value'])\n",
    "rand_points = get_poincare_points_3d(random_pops, 1)\n",
    "\n",
    "# create the figure and axis\n",
    "fig = plt.figure(figsize=(10, 8))\n",
    "ax = fig.add_subplot(111, projection='3d')\n",
    "\n",
    "# scatterplot the data in 3-D\n",
    "chaos_scatter = ax.scatter(chaos_points['x'], chaos_points['y'], chaos_points['z'], \n",
    "                           s=3, marker='o', facecolors='m', edgecolors='m', alpha=0.2, depthshade=True)\n",
    "rand_scatter = ax.scatter(rand_points['x'], rand_points['y'], rand_points['z'], \n",
    "                          s=3, marker='o', facecolors='c', edgecolors='c', alpha=0.5, depthshade=True)\n",
    "\n",
    "# set axis labels and remove all ticks\n",
    "ax.set_xlabel('t',  labelpad=0)\n",
    "ax.set_ylabel('t + 1',  labelpad=0)\n",
    "ax.set_zlabel('t + 2',  labelpad=0)\n",
    "ax.set_xlim(0, 1)\n",
    "ax.set_ylim(0, 1)\n",
    "ax.set_zlim(0, 1)\n",
    "ax.tick_params(reset=True, axis='both', which='both', pad=0, width=0, length=0,\n",
    "               bottom='off', top='off', left='off', right='off', \n",
    "               labelbottom='off', labeltop='off', labelleft='off', labelright='off')\n",
    "\n",
    "# add a legend\n",
    "lgd = ax.legend((chaos_scatter, rand_scatter), ('chaos', 'random'), loc=3, frameon=True, framealpha=1)\n",
    "\n",
    "# configure the initial viewing perspective to look straight down at the x-y plane\n",
    "ax.elev = 89.9\n",
    "ax.azim = 270.1\n",
    "ax.dist = 10.0\n",
    "\n",
    "# sweep the perspective down and rotate to reveal the 3-D structure of the strange attractor\n",
    "for n in range(0, 75):\n",
    "    if n > 9 and n < 13:\n",
    "        ax.elev = ax.elev-0.5 #start by panning down slowly\n",
    "    if n > 12 and n < 27:\n",
    "        ax.elev = ax.elev-1.0 #pan down faster\n",
    "    if n > 26 and n < 51:\n",
    "        ax.elev = ax.elev-1.5\n",
    "        ax.azim = ax.azim+1 #pan down faster and start to rotate\n",
    "    if n > 50 and n < 55:\n",
    "        ax.elev = ax.elev-1.0\n",
    "        ax.azim = ax.azim+1 #pan down slower and rotate same speed\n",
    "    if n > 54 and n < 64:\n",
    "        ax.elev = ax.elev-0.5\n",
    "        ax.azim = ax.azim+1 #pan down slowly and rotate same speed\n",
    "    if n > 63 and n < 67:\n",
    "        ax.elev = ax.elev-0.2\n",
    "        ax.azim = ax.azim+0.5 #end by panning/rotating slowly to stopping position\n",
    "        \n",
    "    # add a figure title to each plot then save the figure to the disk\n",
    "    fig.suptitle(u'Poincaré Plot of 3D state space', fontsize=12, x=0.5, y=0.85)\n",
    "    plt.savefig('images/' + gif_filename + '/img' + str(n).zfill(3) + '.png', bbox_inches='tight')\n",
    "\n",
    "# don't display the static plot\n",
    "plt.close()\n",
    "\n",
    "# create an animated gif of all the 3-D plot perspectives then display it inline\n",
    "images = [PIL_Image.open(image) for image in glob.glob('images/' + gif_filename + '/*.png')]\n",
    "file_path_name = 'images/' + gif_filename + '.gif'\n",
    "writeGif(file_path_name, images, duration=0.1)\n",
    "IPdisplay.Image(url=file_path_name)"
   ]
  },
  {
   "cell_type": "code",
   "execution_count": null,
   "metadata": {
    "collapsed": true
   },
   "outputs": [],
   "source": []
  }
 ],
 "metadata": {
  "kernelspec": {
   "display_name": "Python 2",
   "language": "python",
   "name": "python2"
  },
  "language_info": {
   "codemirror_mode": {
    "name": "ipython",
    "version": 2
   },
   "file_extension": ".py",
   "mimetype": "text/x-python",
   "name": "python",
   "nbconvert_exporter": "python",
   "pygments_lexer": "ipython2",
   "version": "2.7.7"
  }
 },
 "nbformat": 4,
 "nbformat_minor": 0
}
