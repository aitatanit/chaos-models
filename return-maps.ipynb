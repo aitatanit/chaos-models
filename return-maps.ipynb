{
 "cells": [
  {
   "cell_type": "markdown",
   "metadata": {},
   "source": [
    "Author: Geoff Boeing <br />\n",
    "Web: http://geoffboeing.com/2015/03/chaos-theory-logistic-map/  <br />\n",
    "Date: 2015-03-29 <br />\n",
    "Description: This notebook demonstrates several ways to create Return Maps, or Poincaré Plots, to visualize system attractors and differentiate random noise from chaos. Return Maps embed 1-dimensional data (like time series) from a discrete dynamical system into 2- or 3-dimensional state space by plotting the value at time t vs the value at time t+1 (vs the value at time t+2, if it's a 3-D plot). I also show how to make animated GIFs to pan and zoom around the 3-D plots."
   ]
  },
  {
   "cell_type": "code",
   "execution_count": null,
   "metadata": {
    "collapsed": true
   },
   "outputs": [],
   "source": [
    "%matplotlib inline\n",
    "import pandas as pd, numpy as np, matplotlib.pyplot as plt\n",
    "import random\n",
    "from mpl_toolkits.mplot3d import Axes3D\n",
    "from PIL import Image as PIL_Image\n",
    "from images2gif import writeGif\n",
    "import glob\n",
    "import IPython.display as IPdisplay"
   ]
  },
  {
   "cell_type": "code",
   "execution_count": null,
   "metadata": {
    "collapsed": true
   },
   "outputs": [],
   "source": [
    "def logistic_model(generations=20, growth_rate_min=0.5, growth_rate_max=4.0, growth_rate_steps=7, pop_initial=0.5):\n",
    "    growth_rate_min = float(growth_rate_min)\n",
    "    growth_rate_max = float(growth_rate_max) - 0.0000000001\n",
    "    growth_rates = np.arange(growth_rate_min, growth_rate_max, (growth_rate_max - growth_rate_min) / growth_rate_steps)\n",
    "    pops = pd.DataFrame(columns=growth_rates, index=range(generations))\n",
    "    pops.iloc[0] = pop_initial\n",
    "    for rate in pops.columns:\n",
    "        pop = pops[rate]\n",
    "        for t in range(generations - 1):\n",
    "            pop[t + 1] = pop[t] * rate * (1 - pop[t])\n",
    "    return pops"
   ]
  },
  {
   "cell_type": "code",
   "execution_count": null,
   "metadata": {
    "collapsed": true
   },
   "outputs": [],
   "source": [
    "def get_poincare_points(pops, discard_gens):\n",
    "    \"\"\"\n",
    "    convert a dataframe of values from the logistic model into a set of xy points that\n",
    "    you can plot as a poincare diagram\n",
    "    \"\"\"\n",
    "    \n",
    "    # drop the first row because every run has the same starting value, it leaves a visual artifact\n",
    "    # drop the initial rows of the populations data, if specified by the argument\n",
    "    if discard_gens > 0:\n",
    "        discard_gens = np.arange(0, discard_gens)\n",
    "        pops = pops.drop(labels=pops.index[discard_gens])\n",
    "    li = []\n",
    "    \n",
    "    # for each column in the logistic populations dataframe\n",
    "    for rate in pops.columns:\n",
    "        \n",
    "        # for each row in the column\n",
    "        for label, row in pops.iterrows():\n",
    "            \n",
    "            # if this is not the last row in the column\n",
    "            if label < len(pops)-1:\n",
    "                \n",
    "                # append the value at the current time (aka row) as the x and the value at t+1 as the y\n",
    "                li.append((row[rate], pops[rate][label + 1]))\n",
    "    \n",
    "    # convert the xy list of values to a dataframe and return\n",
    "    return pd.DataFrame(li, columns=['x', 'y'])"
   ]
  },
  {
   "cell_type": "code",
   "execution_count": null,
   "metadata": {
    "collapsed": true
   },
   "outputs": [],
   "source": [
    "def get_poincare_points_3d(pops, discard_gens):\n",
    "    \"\"\"\n",
    "    convert a dataframe of values from the logistic model into a set of xyz points that\n",
    "    you can plot as a 3-D return map\n",
    "    \"\"\"\n",
    "    \n",
    "    # drop the first row because every run has the same starting value, it leaves a visual artifact\n",
    "    # drop the initial rows of the populations data, if specified by the argument\n",
    "    if discard_gens > 0:\n",
    "        discard_gens = np.arange(0, discard_gens)\n",
    "        pops = pops.drop(labels=pops.index[discard_gens])\n",
    "    li = []\n",
    "    \n",
    "    # for each column in the logistic populations dataframe\n",
    "    for rate in pops.columns:\n",
    "        \n",
    "        # for each row in the column\n",
    "        for label, row in pops.iterrows():\n",
    "            \n",
    "            # if this is not the 2nd to last row in the column\n",
    "            if label < len(pops)-2:\n",
    "                \n",
    "                # append the value at the current time (aka row) as x, t+1 as y, and t+2 as z\n",
    "                li.append((row[rate], pops[rate][label + 1], pops[rate][label + 2]))\n",
    "    \n",
    "    # convert the xy list of values to a dataframe and return\n",
    "    return pd.DataFrame(li, columns=['x', 'y', 'z'])"
   ]
  },
  {
   "cell_type": "code",
   "execution_count": null,
   "metadata": {
    "collapsed": true
   },
   "outputs": [],
   "source": [
    "def poincare_plot(pops, xmin=0, xmax=1, ymin=0, ymax=1, discard_gens=1, title=u'Poincaré Plot', marker='', size=3):\n",
    "    \"\"\"\n",
    "    plot the results of the logistic model as a poincaré plot\n",
    "    \"\"\"\n",
    "    \n",
    "    # first get the xy points to plot\n",
    "    points = get_poincare_points(pops, discard_gens)\n",
    "    \n",
    "    # create a new matplotlib figure and axis and set its size\n",
    "    fig, ax = plt.subplots()\n",
    "    fig.set_size_inches(6, 6)\n",
    "\n",
    "    # plot the xy data\n",
    "    poincare_scatter = ax.scatter(points['x'], points['y'], c='r', edgecolor='', alpha=1, s=size)\n",
    "\n",
    "    # set x and y limits, title, and x and y labels\n",
    "    ax.set_xlim(xmin, xmax)\n",
    "    ax.set_ylim(ymin, ymax)\n",
    "    ax.set_title(title)\n",
    "    ax.set_xlabel('t')\n",
    "    ax.set_ylabel('t + 1')\n",
    "\n",
    "    plt.show()"
   ]
  },
  {
   "cell_type": "code",
   "execution_count": null,
   "metadata": {
    "collapsed": true
   },
   "outputs": [],
   "source": [
    "def poincare_plot_3d(pops, xmin=0, xmax=1, ymin=0, ymax=1, zmin=0, zmax=1,\n",
    "                     discard_gens=1, title=u'Poincaré Plot', marker='', size=3):\n",
    "    \"\"\"\n",
    "    plot the results of the logistic model as a poincaré plot\n",
    "    \"\"\"\n",
    "    \n",
    "    # first get the xyz points to plot\n",
    "    points = get_poincare_points_3d(pops, discard_gens)\n",
    "    \n",
    "    # create a new matplotlib figure and axis and set its size\n",
    "    fig = plt.figure(figsize=(10, 8))\n",
    "    ax = fig.gca(projection='3d')\n",
    "\n",
    "    # plot the xy data\n",
    "    poincare_scatter = ax.scatter(points['x'], points['y'], points['z'], marker='.', c='m', edgecolor='m', s=5, alpha=0.1)\n",
    "\n",
    "    # set x and y limits, title, and x and y labels\n",
    "    ax.set_xlim(xmin, xmax)\n",
    "    ax.set_ylim(ymin, ymax)\n",
    "    #ax.set_title(title)\n",
    "    ax.set_xlabel('t')\n",
    "    ax.set_ylabel('t + 1')\n",
    "    ax.set_zlabel('t + 2')\n",
    "\n",
    "    plt.show()"
   ]
  },
  {
   "cell_type": "code",
   "execution_count": null,
   "metadata": {
    "collapsed": false
   },
   "outputs": [],
   "source": [
    "# draw a poincare plot for 100 generations for the growth rate parameter 2.9\n",
    "# it shows points converging on 0.655 because the logistic map has a fixed-point attractor at 0.655 when r=2.9\n",
    "generations = 100\n",
    "growth_rate_min = 2.9\n",
    "growth_rate_max = 4.0\n",
    "growth_rate_steps = 1\n",
    "pops = logistic_model(generations, growth_rate_min, growth_rate_max, growth_rate_steps)\n",
    "poincare_plot(pops, title=u'Poincaré Plot, r=2.9', size=5)"
   ]
  },
  {
   "cell_type": "code",
   "execution_count": null,
   "metadata": {
    "collapsed": false
   },
   "outputs": [],
   "source": [
    "# draw a poincare plot for 100 generations for the growth rate parameter 3.2\n",
    "# it shows 2 points because the logistic map has a period of 2 when r=3.2\n",
    "generations = 100\n",
    "growth_rate_min = 3.2\n",
    "growth_rate_max = 4.0\n",
    "growth_rate_steps = 1\n",
    "pops = logistic_model(generations, growth_rate_min, growth_rate_max, growth_rate_steps)\n",
    "poincare_plot(pops, title=u'Poincaré Plot, r=3.2', size=10)"
   ]
  },
  {
   "cell_type": "code",
   "execution_count": null,
   "metadata": {
    "collapsed": false
   },
   "outputs": [],
   "source": [
    "# draw a poincare plot for 100 generations for the growth rate parameter 3.5\n",
    "# it shows 4 points because the logistic map has a period of 4 when r=3.5\n",
    "generations = 100\n",
    "growth_rate_min = 3.5\n",
    "growth_rate_max = 4.0\n",
    "growth_rate_steps = 1\n",
    "pops = logistic_model(generations, growth_rate_min, growth_rate_max, growth_rate_steps)\n",
    "poincare_plot(pops, title=u'Poincaré Plot, r=3.5', size=10)"
   ]
  },
  {
   "cell_type": "code",
   "execution_count": null,
   "metadata": {
    "collapsed": false
   },
   "outputs": [],
   "source": [
    "# draw a poincare plot for 2,000 generations for the growth rate parameter 3.9\n",
    "# the plot reveals the strange attractor - the logistic map is chaotic when r=3.9\n",
    "generations = 2000\n",
    "growth_rate_min = 3.9\n",
    "growth_rate_max = 4.0\n",
    "growth_rate_steps = 1\n",
    "pops = logistic_model(generations, growth_rate_min, growth_rate_max, growth_rate_steps)\n",
    "poincare_plot(pops, xmin=0.2, xmax=0.8, ymin=0.7, ymax=1.01, title=u'Poincaré Plot, r=3.9')"
   ]
  },
  {
   "cell_type": "code",
   "execution_count": null,
   "metadata": {
    "collapsed": false
   },
   "outputs": [],
   "source": [
    "# draw a poincare plot for 1,000 generations across 50 growth rate steps from 3.6 to 4.0\n",
    "# each chaotic growth rate has its own parabola\n",
    "generations = 1000\n",
    "growth_rate_min = 3.6\n",
    "growth_rate_max = 4.0\n",
    "growth_rate_steps = 50\n",
    "pops = logistic_model(generations, growth_rate_min, growth_rate_max, growth_rate_steps)\n",
    "poincare_plot(pops, xmin=0.2, xmax=0.8, ymin=0.7, ymax=1.01, size=1, title=u'Poincaré Plot, r=3.6 to r=4.0')"
   ]
  },
  {
   "cell_type": "code",
   "execution_count": null,
   "metadata": {
    "collapsed": false
   },
   "outputs": [],
   "source": [
    "# generate two time series of 1000 steps, one chaotic and one random\n",
    "gens = 30000\n",
    "chaos_pops = logistic_model(gens, 3.999, 4.0, 1)\n",
    "chaos_pops = chaos_pops.iloc[gens-1000:].reset_index().drop(labels='index', axis=1)\n",
    "random_pops = pd.DataFrame([random.random() for _ in range(0, 1000)], columns=['value'])\n",
    "time_series = pd.concat([chaos_pops, random_pops], axis=1)\n",
    "time_series.columns = ['chaos', 'random']\n",
    "time_series.iloc[900:905]"
   ]
  },
  {
   "cell_type": "code",
   "execution_count": null,
   "metadata": {
    "collapsed": false
   },
   "outputs": [],
   "source": [
    "# plot the chaotic and random time series to show how they are sometimes tough to differentiate\n",
    "ax = time_series.plot(kind='line', figsize=[10, 6], linewidth='3', alpha=0.6, style=['b-','r-'])\n",
    "ax.set_xlim(40, 90)\n",
    "ax.set_ylim(0, 1)\n",
    "ax.set_title('Time Series, deterministic chaos vs random data')\n",
    "ax.set_xlabel('Generation')\n",
    "ax.set_ylabel('Population')\n",
    "ax.legend(loc=3, frameon=True, framealpha=1)\n",
    "plt.show()"
   ]
  },
  {
   "cell_type": "code",
   "execution_count": null,
   "metadata": {
    "collapsed": false
   },
   "outputs": [],
   "source": [
    "# now show these two time series side-by-side as Poincare Plots to show how to differentiate them\n",
    "\n",
    "# first, get poincare points such that (x, y) = (pop at time t, pop at time t+1)\n",
    "chaos_points = get_poincare_points(chaos_pops, 1)\n",
    "rand_points = get_poincare_points(random_pops, 1)\n",
    "\n",
    "# create a new matplotlib figure with side-by-side axes and set its size\n",
    "fig, _ = plt.subplots()\n",
    "fig.set_size_inches(12, 6)\n",
    "ax1 = plt.subplot(121)\n",
    "ax2 = plt.subplot(122)\n",
    "\n",
    "# on one axis, plot the chaotic time series, on the other plot the random one\n",
    "chaos_scatter = ax1.scatter(chaos_points['x'], chaos_points['y'], c='r', edgecolor='', alpha=1, s=3)\n",
    "rand_scatter = ax2.scatter(rand_points['x'], rand_points['y'], c='r', edgecolor='', alpha=1, s=3)\n",
    "\n",
    "# set x and y limits, title, and x and y labels\n",
    "ax1.set_xlim(0, 1)\n",
    "ax1.set_ylim(0, 1)\n",
    "ax2.set_xlim(0, 1)\n",
    "ax2.set_ylim(0, 1)  \n",
    "ax1.set_title(u'Poincaré Plot, deterministic chaos')\n",
    "ax2.set_title(u'Poincaré Plot, random data')  \n",
    "xlabel = '$Pop_t$'\n",
    "ylabel = '$Pop_{t+1}$'\n",
    "font_size = 14\n",
    "ax1.set_xlabel(xlabel, fontsize=font_size)\n",
    "ax1.set_ylabel(ylabel, fontsize=font_size)\n",
    "ax2.set_xlabel(xlabel, fontsize=font_size)\n",
    "ax2.set_ylabel(ylabel, fontsize=font_size)\n",
    "\n",
    "plt.show()"
   ]
  },
  {
   "cell_type": "code",
   "execution_count": null,
   "metadata": {
    "collapsed": false
   },
   "outputs": [],
   "source": [
    "# the strange attractor is even more interesting when it's plotted in a 3-D Poincare plot\n",
    "# embed the 1-D time series data in 3-D state space by plotting pop at time t vs t+1 vs t+2\n",
    "pops = logistic_model(1000, 3.99, 4, 1)\n",
    "poincare_plot_3d(pops)"
   ]
  },
  {
   "cell_type": "code",
   "execution_count": null,
   "metadata": {
    "collapsed": false
   },
   "outputs": [],
   "source": [
    "# now show the 3-D plot as an animated gif\n",
    "# run the logistic model for 1000 generations for the growth rate parameter 3.99\n",
    "r = 3.99\n",
    "xyz = get_poincare_points_3d(logistic_model(1000, r, 4, 1), 1)\n",
    "\n",
    "# create the figure and axis\n",
    "fig = plt.figure(figsize=(10, 8))\n",
    "ax = fig.add_subplot(111, projection='3d')\n",
    "\n",
    "# scatterplot the data in 3-D\n",
    "ax.scatter(xyz['x'], xyz['y'], xyz['z'], s=3, marker='o', facecolors='m', edgecolors='m', alpha=0.1, depthshade=True)\n",
    "\n",
    "# remove all ticks\n",
    "ax.tick_params(reset=True, axis='both', which='both', pad=0, width=0, length=0,\n",
    "               bottom='off', top='off', left='off', right='off', \n",
    "               labelbottom='off', labeltop='off', labelleft='off', labelright='off')\n",
    "\n",
    "# create 36 frames for the animated gif\n",
    "steps = 36\n",
    "gif_filename = 'demo-pan-rotate-zoom'\n",
    "\n",
    "# a viewing perspective is composed of an elevation, distance, and azimuth\n",
    "# define the range of values for the distance of the viewing perspective\n",
    "min_dist = 7.\n",
    "max_dist = 10.\n",
    "dist_range = np.arange(min_dist, max_dist, (max_dist-min_dist)/steps)\n",
    "\n",
    "# define the range of values for the elevation of the viewing perspective\n",
    "min_elev = 10.\n",
    "max_elev = 60.\n",
    "elev_range = np.arange(max_elev, min_elev, (min_elev-max_elev)/steps)\n",
    "\n",
    "# pan down, rotate around, and zoom out\n",
    "for azimuth in range(0, 360, 360/steps):\n",
    "    ax.azim = float(azimuth)\n",
    "    ax.elev = elev_range[int(azimuth/(360./steps))]\n",
    "    ax.dist = dist_range[int(azimuth/(360./steps))]\n",
    "    fig.suptitle('elev=' + str(round(ax.elev,1)) + ', azim=' + str(round(ax.azim,1)) + ', dist=' + str(round(ax.dist,1)))\n",
    "    plt.savefig('images/' + gif_filename + '/img' + str(azimuth).zfill(3) + '.png')\n",
    "    \n",
    "# don't display the static plot\n",
    "plt.close()\n",
    "\n",
    "# create an animated gif of all the 3-D plot perspectives then display it inline\n",
    "images = [PIL_Image.open(image) for image in glob.glob('images/' + gif_filename + '/*.png')]\n",
    "file_path_name = 'images/' + gif_filename + '.gif'\n",
    "writeGif(file_path_name, images, duration=0.2)\n",
    "IPdisplay.Image(url=file_path_name)"
   ]
  },
  {
   "cell_type": "code",
   "execution_count": null,
   "metadata": {
    "collapsed": false
   },
   "outputs": [],
   "source": [
    "# show the 3-D plot as an animated gif\n",
    "# run the logistic model for 1000 generations for the growth rate parameter 3.99\n",
    "r = 3.99\n",
    "xyz = get_poincare_points_3d(logistic_model(1000, r, 4, 1), 1)\n",
    "\n",
    "# create the figure and axis\n",
    "fig = plt.figure(figsize=(10, 8))\n",
    "ax = fig.add_subplot(111, projection='3d')\n",
    "\n",
    "# scatterplot the data in 3-D\n",
    "ax.scatter(xyz['x'], xyz['y'], xyz['z'], s=3, marker='o', facecolors='m', edgecolors='m', alpha=0.1, depthshade=True)\n",
    "\n",
    "# set axis labels and remove all ticks\n",
    "ax.set_xlabel('t',  labelpad=0)\n",
    "ax.set_ylabel('t + 1',  labelpad=0)\n",
    "ax.set_zlabel('t + 2',  labelpad=0)\n",
    "ax.tick_params(reset=True, axis='both', which='both', pad=0, width=0, length=0,\n",
    "               bottom='off', top='off', left='off', right='off', \n",
    "               labelbottom='off', labeltop='off', labelleft='off', labelright='off')\n",
    "\n",
    "# configure the initial viewing perspective to look straight down at the x-y plane\n",
    "ax.elev = 89.9\n",
    "ax.azim = 270.1\n",
    "ax.dist = 10.0\n",
    "\n",
    "# filename for the animated gif\n",
    "gif_filename = 'logistic-3d-return-map'\n",
    "\n",
    "# sweep the perspective down and rotate to reveal the 3-D structure of the strange attractor\n",
    "for n in range(0, 75):\n",
    "    if n > 10 and n < 27:\n",
    "        ax.elev = ax.elev-1.5\n",
    "    if n > 26 and n < 31:\n",
    "        ax.elev = ax.elev-2\n",
    "        ax.azim = ax.azim+0.5\n",
    "    if n > 30 and n < 51:\n",
    "        ax.elev = ax.elev-1.5\n",
    "        ax.azim = ax.azim+1\n",
    "    if n > 50 and n < 55:\n",
    "        ax.elev = ax.elev-0.7\n",
    "        ax.azim = ax.azim+1\n",
    "    if n > 54 and n < 66:\n",
    "        ax.azim = ax.azim+1\n",
    "        \n",
    "    # add a figure title to each plot then save the figure to the disk\n",
    "    fig.suptitle('Return Map in 3D state space, r=' + str(r), fontsize=12, x=0.5, y=0.85)\n",
    "    plt.savefig('images/' + gif_filename + '/img' + str(n).zfill(3) + '.png', bbox_inches='tight')\n",
    "\n",
    "# don't display the static plot\n",
    "plt.close()\n",
    "\n",
    "# create an animated gif of all the 3-D plot perspectives then display it inline\n",
    "images = [PIL_Image.open(image) for image in glob.glob('images/' + gif_filename + '/*.png')]\n",
    "file_path_name = 'images/' + gif_filename + '.gif'\n",
    "writeGif(file_path_name, images, duration=0.1)\n",
    "IPdisplay.Image(url=file_path_name)"
   ]
  },
  {
   "cell_type": "code",
   "execution_count": null,
   "metadata": {
    "collapsed": true
   },
   "outputs": [],
   "source": []
  }
 ],
 "metadata": {
  "kernelspec": {
   "display_name": "Python 2",
   "language": "python",
   "name": "python2"
  },
  "language_info": {
   "codemirror_mode": {
    "name": "ipython",
    "version": 2
   },
   "file_extension": ".py",
   "mimetype": "text/x-python",
   "name": "python",
   "nbconvert_exporter": "python",
   "pygments_lexer": "ipython2",
   "version": "2.7.7"
  }
 },
 "nbformat": 4,
 "nbformat_minor": 0
}
